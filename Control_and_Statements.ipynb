{
  "nbformat": 4,
  "nbformat_minor": 0,
  "metadata": {
    "colab": {
      "name": "Control and Statements.ipynb",
      "provenance": [],
      "authorship_tag": "ABX9TyPHqGnGOCQ6eGpm1PfK7ytl",
      "include_colab_link": true
    },
    "kernelspec": {
      "name": "python3",
      "display_name": "Python 3"
    },
    "language_info": {
      "name": "python"
    }
  },
  "cells": [
    {
      "cell_type": "markdown",
      "metadata": {
        "id": "view-in-github",
        "colab_type": "text"
      },
      "source": [
        "<a href=\"https://colab.research.google.com/github/cieloanne/Numerical-Methods-58012/blob/main/Control_and_Statements.ipynb\" target=\"_parent\"><img src=\"https://colab.research.google.com/assets/colab-badge.svg\" alt=\"Open In Colab\"/></a>"
      ]
    },
    {
      "cell_type": "markdown",
      "source": [
        "## If Statement"
      ],
      "metadata": {
        "id": "T21rLi97ZjsY"
      }
    },
    {
      "cell_type": "code",
      "execution_count": null,
      "metadata": {
        "colab": {
          "base_uri": "https://localhost:8080/"
        },
        "id": "L0GgpcYGZdY0",
        "outputId": "7fbaf460-2e24-4238-cc48-5460c0ceb457"
      },
      "outputs": [
        {
          "output_type": "stream",
          "name": "stdout",
          "text": [
            "b is greater than a\n"
          ]
        }
      ],
      "source": [
        "a = 12\n",
        "b = 100\n",
        "\n",
        "if b > a:\n",
        "  print (\"b is greater than a\")"
      ]
    },
    {
      "cell_type": "markdown",
      "source": [
        "## Elif Statement"
      ],
      "metadata": {
        "id": "TqqVgfxPZpsg"
      }
    },
    {
      "cell_type": "code",
      "source": [
        "a = 12\n",
        "b = 100\n",
        "\n",
        "if b > a:\n",
        "  print (\"b is greater than a\")\n",
        "elif a > b:\n",
        "  print (\"a is greater than a\")"
      ],
      "metadata": {
        "colab": {
          "base_uri": "https://localhost:8080/"
        },
        "id": "0RMg8_-cZsaF",
        "outputId": "df400f01-d4bf-41b2-cf81-e607d6254d28"
      },
      "execution_count": null,
      "outputs": [
        {
          "output_type": "stream",
          "name": "stdout",
          "text": [
            "b is greater than a\n"
          ]
        }
      ]
    },
    {
      "cell_type": "markdown",
      "source": [
        "## Else Statement"
      ],
      "metadata": {
        "id": "4XHXbroKa-q3"
      }
    },
    {
      "cell_type": "code",
      "source": [
        "a = 100\n",
        "b = 100\n",
        "\n",
        "if b > a:\n",
        "  print (\"b is greater than a\")\n",
        "elif a > b:\n",
        "  print (\"a is greater than b\")\n",
        "else:\n",
        "  print (\"a is equal to b\")"
      ],
      "metadata": {
        "colab": {
          "base_uri": "https://localhost:8080/"
        },
        "id": "Y7qWwTakbCA-",
        "outputId": "8c49213a-e048-4821-ca07-45a9266ca4c4"
      },
      "execution_count": null,
      "outputs": [
        {
          "output_type": "stream",
          "name": "stdout",
          "text": [
            "a is equal to b\n"
          ]
        }
      ]
    },
    {
      "cell_type": "markdown",
      "source": [
        "## Short hand If Statement"
      ],
      "metadata": {
        "id": "J7mOAhjKbE58"
      }
    },
    {
      "cell_type": "code",
      "source": [
        "a = 12\n",
        "b = 100\n",
        "\n",
        "if b > a: print (\"b is greater than a\")"
      ],
      "metadata": {
        "colab": {
          "base_uri": "https://localhost:8080/"
        },
        "id": "o0gGfjlqbgDv",
        "outputId": "f66f4c2a-e42f-49bd-bb9d-838ddbd5f7bf"
      },
      "execution_count": null,
      "outputs": [
        {
          "output_type": "stream",
          "name": "stdout",
          "text": [
            "b is greater than a\n"
          ]
        }
      ]
    },
    {
      "cell_type": "markdown",
      "source": [
        "## Short hand If..Else Statement"
      ],
      "metadata": {
        "id": "yHVu4Gy7bjCC"
      }
    },
    {
      "cell_type": "code",
      "source": [
        "c = 35\n",
        "d = 40\n",
        "\n",
        "print (\"c is greater than d\") if c > d else print (\"d is greater than c\")"
      ],
      "metadata": {
        "colab": {
          "base_uri": "https://localhost:8080/"
        },
        "id": "qvEg9tfBbn7f",
        "outputId": "bff7dedc-7cf8-458e-c8ab-86cb95c37bf4"
      },
      "execution_count": null,
      "outputs": [
        {
          "output_type": "stream",
          "name": "stdout",
          "text": [
            "d is greater than c\n"
          ]
        }
      ]
    },
    {
      "cell_type": "markdown",
      "source": [
        "## And-Both Conditions are true"
      ],
      "metadata": {
        "id": "BK902lJmbsT9"
      }
    },
    {
      "cell_type": "code",
      "source": [
        "c = 35\n",
        "d = 40\n",
        "e = 30\n",
        "\n",
        "if d > c and c > e:\n",
        "  print (\"Both conditions must be True\")"
      ],
      "metadata": {
        "colab": {
          "base_uri": "https://localhost:8080/"
        },
        "id": "G8grgcqibrCP",
        "outputId": "4b896f5d-d8f1-45a8-f69c-c91588ebaa3e"
      },
      "execution_count": null,
      "outputs": [
        {
          "output_type": "stream",
          "name": "stdout",
          "text": [
            "Both conditions must be True\n"
          ]
        }
      ]
    },
    {
      "cell_type": "markdown",
      "source": [
        "## Or-if at least one of the Conditions is true"
      ],
      "metadata": {
        "id": "kg38C_-dbzXN"
      }
    },
    {
      "cell_type": "code",
      "source": [
        "c = 35\n",
        "d = 40\n",
        "e = 30\n",
        "\n",
        "if d > c or e > c:\n",
        "  print (\"If one of the two operands is True\")"
      ],
      "metadata": {
        "colab": {
          "base_uri": "https://localhost:8080/"
        },
        "id": "zUtnwdf5b7D6",
        "outputId": "adb558ae-ef0f-473a-9037-d6e7bf2e2ad2"
      },
      "execution_count": null,
      "outputs": [
        {
          "output_type": "stream",
          "name": "stdout",
          "text": [
            "If one of the two operands is True\n"
          ]
        }
      ]
    },
    {
      "cell_type": "markdown",
      "source": [
        "# Nested If"
      ],
      "metadata": {
        "id": "sL8irMXjb_Q1"
      }
    },
    {
      "cell_type": "code",
      "source": [
        "x = int(input())\n",
        "\n",
        "if x > 10:\n",
        "  print (\"x is above 10\")\n",
        "  if x > 20:\n",
        "    print (\"x is above 20\")\n",
        "    if x > 30:\n",
        "      print (\"x is above 30\")\n",
        "      if x > 40:\n",
        "        print (\"x is above 40\")\n",
        "      else:\n",
        "        print (\"x is not above 40\")\n",
        "    else:\n",
        "        print (\"x is not above 30\")\n",
        "  else:\n",
        "    print (\"x is not above 20\")"
      ],
      "metadata": {
        "colab": {
          "base_uri": "https://localhost:8080/"
        },
        "id": "6l0KP6pIcA3r",
        "outputId": "0cc6d847-fe6a-44eb-eb2c-1cea07f384ea"
      },
      "execution_count": null,
      "outputs": [
        {
          "output_type": "stream",
          "name": "stdout",
          "text": [
            "32\n",
            "x is above 10\n",
            "x is above 20\n",
            "x is above 30\n",
            "x is not above 40\n"
          ]
        }
      ]
    },
    {
      "cell_type": "markdown",
      "source": [
        "## Application 1"
      ],
      "metadata": {
        "id": "NRiBS6cDcFBU"
      }
    },
    {
      "cell_type": "markdown",
      "source": [
        "Write a program that determines if the input age is qualified to vote or not. The qualifying age is 18 years old and above."
      ],
      "metadata": {
        "id": "LqYqjeMocLyq"
      }
    },
    {
      "cell_type": "code",
      "source": [
        "age = int(input())\n",
        "\n",
        "if age >= 18:\n",
        "  print (\"You are qualified to vote!\")\n",
        "else:\n",
        "  print (\"You are not qualified to vote.\")"
      ],
      "metadata": {
        "colab": {
          "base_uri": "https://localhost:8080/"
        },
        "id": "A7AyziqmcH3_",
        "outputId": "2ed0203a-fb0c-4cb2-cda3-16e15c554f1d"
      },
      "execution_count": null,
      "outputs": [
        {
          "output_type": "stream",
          "name": "stdout",
          "text": [
            "21\n",
            "You are qualified to vote!\n"
          ]
        }
      ]
    },
    {
      "cell_type": "markdown",
      "source": [
        "## Application 2"
      ],
      "metadata": {
        "id": "T6Y_EQHkcRc4"
      }
    },
    {
      "cell_type": "markdown",
      "source": [
        "Write a program that determines if the input number is POSITIVE, NEGATIVE, or Zero."
      ],
      "metadata": {
        "id": "Qnpt5x8NcfhM"
      }
    },
    {
      "cell_type": "code",
      "source": [
        "x = int(input())\n",
        "\n",
        "if x >= 1:\n",
        "  print (\"Positive\")\n",
        "elif x <= -1:\n",
        "  print (\"Negative\")\n",
        "else:\n",
        "  print(\"Zero\")"
      ],
      "metadata": {
        "colab": {
          "base_uri": "https://localhost:8080/"
        },
        "id": "_1X1OjR3cH7e",
        "outputId": "01b85998-2f74-4971-ba50-679f49265056"
      },
      "execution_count": null,
      "outputs": [
        {
          "output_type": "stream",
          "name": "stdout",
          "text": [
            "1\n",
            "Positive\n"
          ]
        }
      ]
    },
    {
      "cell_type": "markdown",
      "source": [
        "## For Loop Statement"
      ],
      "metadata": {
        "id": "q31cF29ncmJ5"
      }
    },
    {
      "cell_type": "code",
      "source": [
        "week = [\"Sunday\", \"Monday\", \"Tuesday\", \"Wednesday\", \"Thursday\", \"Friday\", \"Saturday\"]\n",
        "\n",
        "for x in week:\n",
        "  print (x)"
      ],
      "metadata": {
        "colab": {
          "base_uri": "https://localhost:8080/"
        },
        "id": "yr94wS9ydbOs",
        "outputId": "c7bc57db-6b17-42f2-f716-17a64c38cdac"
      },
      "execution_count": null,
      "outputs": [
        {
          "output_type": "stream",
          "name": "stdout",
          "text": [
            "Sunday\n",
            "Monday\n",
            "Tuesday\n",
            "Wednesday\n",
            "Thursday\n",
            "Friday\n",
            "Saturday\n"
          ]
        }
      ]
    },
    {
      "cell_type": "markdown",
      "source": [
        "## The Break Statement"
      ],
      "metadata": {
        "id": "NyYyD28ydiGg"
      }
    },
    {
      "cell_type": "code",
      "source": [
        "week = [\"Sunday\", \"Monday\", \"Tuesday\", \"Wednesday\", \"Thursday\", \"Friday\", \"Saturday\"]\n",
        "\n",
        "for x in week:\n",
        "  print (x)\n",
        "\n",
        "  if x == \"Thursday\":\n",
        "    break"
      ],
      "metadata": {
        "colab": {
          "base_uri": "https://localhost:8080/"
        },
        "id": "qnGzhtdddmLS",
        "outputId": "3b9c2f27-0a5d-480c-f5a7-42bdd3450bce"
      },
      "execution_count": null,
      "outputs": [
        {
          "output_type": "stream",
          "name": "stdout",
          "text": [
            "Sunday\n",
            "Monday\n",
            "Tuesday\n",
            "Wednesday\n",
            "Thursday\n"
          ]
        }
      ]
    },
    {
      "cell_type": "markdown",
      "source": [
        "## While Loop"
      ],
      "metadata": {
        "id": "E32BkDCYdq0b"
      }
    },
    {
      "cell_type": "code",
      "source": [
        "y = 3\n",
        "\n",
        "while y < 6:\n",
        "  print (y)\n",
        "  if y == 3:\n",
        "    break\n",
        "  y += 1 #same as y=y +1"
      ],
      "metadata": {
        "colab": {
          "base_uri": "https://localhost:8080/"
        },
        "id": "AOzAzyomdtpG",
        "outputId": "bde6e73a-aee7-4b35-8e80-7aa43d6d85ca"
      },
      "execution_count": null,
      "outputs": [
        {
          "output_type": "stream",
          "name": "stdout",
          "text": [
            "3\n"
          ]
        }
      ]
    },
    {
      "cell_type": "markdown",
      "source": [
        "## Application 3"
      ],
      "metadata": {
        "id": "k6n-Wl5Xe7bM"
      }
    },
    {
      "cell_type": "markdown",
      "source": [
        "Write a program to determine if the grades are:"
      ],
      "metadata": {
        "id": "Hu9ZgmbQfENf"
      }
    },
    {
      "cell_type": "code",
      "source": [
        "grade = int(input())\n",
        "\n",
        "if grade >= 70:\n",
        "  print (\"Passed\")\n",
        "elif grade >= 64:\n",
        "    print (\"Remedial\")\n",
        "else:\n",
        "    print (\"Failed\")"
      ],
      "metadata": {
        "colab": {
          "base_uri": "https://localhost:8080/"
        },
        "id": "XFXiQuU-e9pI",
        "outputId": "4484e63a-289e-4245-c5e4-fd7cb7e40c24"
      },
      "execution_count": 73,
      "outputs": [
        {
          "output_type": "stream",
          "name": "stdout",
          "text": [
            "63\n",
            "Failed\n"
          ]
        }
      ]
    }
  ]
}